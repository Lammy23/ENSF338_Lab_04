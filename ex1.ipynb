{
 "cells": [
  {
   "cell_type": "markdown",
   "metadata": {},
   "source": [
    "## Implementation of Linked Lists & Binary Search"
   ]
  },
  {
   "cell_type": "code",
   "execution_count": 1,
   "metadata": {},
   "outputs": [
    {
     "name": "stdout",
     "output_type": "stream",
     "text": [
      "Element not Found\n",
      "\n"
     ]
    }
   ],
   "source": [
    "class Node:\n",
    "    \n",
    "    def __init__(self, data):\n",
    "        self.data = data\n",
    "        self.next = None\n",
    "        self.prev = None\n",
    "        \n",
    "def newNode(x):\n",
    "\n",
    "    temp = Node(0)\n",
    "    temp.data = x\n",
    "    temp.next = None\n",
    "    return temp\n",
    "\n",
    "def middle(start, last):\n",
    "\n",
    "    if (start == None):\n",
    "        return None\n",
    "\n",
    "    slow = start\n",
    "    fast = start . next\n",
    "\n",
    "    while (fast != last):\n",
    "    \n",
    "        fast = fast . next\n",
    "        if (fast != last):\n",
    "        \n",
    "            slow = slow . next\n",
    "            fast = fast . next\n",
    "        \n",
    "    return slow\n",
    "\n",
    "def binarySearch(head,value):\n",
    "\n",
    "    start = head\n",
    "    last = None\n",
    "\n",
    "    while True :\n",
    "    \n",
    "        mid = middle(start, last)\n",
    "\n",
    "        if (mid == None):\n",
    "            return None\n",
    "\n",
    "        if (mid . data == value):\n",
    "            return mid\n",
    "\n",
    "        elif (mid . data < value):\n",
    "            start = mid . next\n",
    "\n",
    "        else:\n",
    "            last = mid\n",
    "\n",
    "        if not (last == None or last != start):\n",
    "            break\n",
    "\n",
    "    return None\n",
    "\n",
    "head = newNode(2)\n",
    "head.next = newNode(5)\n",
    "head.next.next = newNode(7)\n",
    "head.next.next.next = newNode(11)\n",
    "head.next.next.next.next = newNode(15)\n",
    "head.next.next.next.next.next = newNode(18)\n",
    "value = 9\n",
    "if (binarySearch(head, value) == None):\n",
    "    print(\"Element not Found\\n\")\n",
    "else:\n",
    "    print(\"Element Found\")"
   ]
  },
  {
   "cell_type": "markdown",
   "metadata": {},
   "source": []
  }
 ],
 "metadata": {
  "kernelspec": {
   "display_name": "base",
   "language": "python",
   "name": "python3"
  },
  "language_info": {
   "codemirror_mode": {
    "name": "ipython",
    "version": 3
   },
   "file_extension": ".py",
   "mimetype": "text/x-python",
   "name": "python",
   "nbconvert_exporter": "python",
   "pygments_lexer": "ipython3",
   "version": "3.11.5"
  }
 },
 "nbformat": 4,
 "nbformat_minor": 2
}
