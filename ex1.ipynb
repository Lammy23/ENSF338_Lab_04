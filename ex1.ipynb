{
 "cells": [
  {
   "cell_type": "markdown",
   "metadata": {},
   "source": [
    "## Implementation of Linked Lists"
   ]
  },
  {
   "cell_type": "code",
   "execution_count": 1,
   "metadata": {},
   "outputs": [],
   "source": [
    "class Node:\n",
    "\n",
    "    def __init__(self, val, next= None):\n",
    "        self.val = val\n",
    "        self.next = next\n",
    "\n",
    "class LinkedList:\n",
    "\n",
    "    def __init__(self, head= None):\n",
    "        self.head = head\n",
    "\n",
    "    def addNode(self, val):\n",
    "        tempNode = Node(val)\n",
    "        if self.head is None:\n",
    "            self.head = tempNode\n",
    "            return\n",
    "\n",
    "        start = self.head\n",
    "        while True:\n",
    "            if start.next is None:\n",
    "                start.next = tempNode\n",
    "                break\n",
    "            start = start.next"
   ]
  },
  {
   "cell_type": "markdown",
   "metadata": {},
   "source": [
    "## Binary Search on Linked Lists"
   ]
  },
  {
   "cell_type": "code",
   "execution_count": 2,
   "metadata": {},
   "outputs": [],
   "source": [
    "def binarySearchLinked(searchList, val):\n",
    "    '''\n",
    "    Required:\n",
    "    head pointer that points to head of linked list\n",
    "    val integer to be found\n",
    "\n",
    "    Promises:\n",
    "    Finds and returns the Node that has the val else returns None\n",
    "    '''\n",
    "    start = searchList.head\n",
    "    last = None\n",
    "    \n",
    "    while True:                         # O(log n) because half the array is discarded?\n",
    "        mid = middle(start, last)       # O(n / 2) not sure\n",
    "\n",
    "        if mid is None:                 # O(1)\n",
    "            return None\n",
    "\n",
    "        if mid.val == value:            # O(1)\n",
    "            return mid\n",
    "\n",
    "        elif mid.val < val:             # O(1)\n",
    "            start = mid.next\n",
    "\n",
    "        elif mid.val > val:             # O(1)\n",
    "            last = mid\n",
    "\n",
    "        if start == last:               # O(1)\n",
    "        # and last is not None:\n",
    "            break\n",
    "\n",
    "    return None\n",
    "\n",
    "# Complexity:\n",
    "\n",
    "# O(log n) * (O(n / 2) + 5 * O(1)) = O(n/2) * O(log n) = O(n log n)\n",
    "\n",
    "\n",
    "\n",
    "def middle(start, last):\n",
    "    '''\n",
    "    Required:\n",
    "    start pointer that points to the first element\n",
    "    last pointer that points to the last element\n",
    "\n",
    "    Promises:\n",
    "    Finds and returns the middle Node of the linked list\n",
    "\n",
    "    How it works:\n",
    "    Two pointers, slow and fast, will traverse the whole array. Fast increments by two steps\n",
    "    each time. When fast reaches the last element slow would have reached the middle element.\n",
    "    '''\n",
    "\n",
    "    if start is None:\n",
    "        return None\n",
    "\n",
    "    slow = start\n",
    "    fast = start\n",
    "\n",
    "    while fast.next != last:\n",
    "        fast = fast.next.next\n",
    "        slow = slow.next\n",
    "        if fast == last:\n",
    "            break\n",
    "\n",
    "    return slow"
   ]
  },
  {
   "cell_type": "code",
   "execution_count": 3,
   "metadata": {},
   "outputs": [
    {
     "name": "stdout",
     "output_type": "stream",
     "text": [
      "Element Found\n",
      "11\n"
     ]
    }
   ],
   "source": [
    "testList = LinkedList()\n",
    "testList.addNode(2)\n",
    "testList.addNode(5)\n",
    "testList.addNode(7)\n",
    "testList.addNode(11)\n",
    "testList.addNode(15)\n",
    "testList.addNode(18)\n",
    "\n",
    "value = 11\n",
    "\n",
    "node = binarySearchLinked(testList, value)\n",
    "\n",
    "if node is None:\n",
    "    print(\"Element not Found\\n\")\n",
    "else:\n",
    "    print(\"Element Found\")\n",
    "    print(node.val)"
   ]
  },
  {
   "cell_type": "markdown",
   "metadata": {},
   "source": [
    "## Implementation of Array Class"
   ]
  },
  {
   "cell_type": "code",
   "execution_count": 4,
   "metadata": {},
   "outputs": [],
   "source": [
    "class Array:\n",
    "    def __init__(self, size):\n",
    "        self.size = size\n",
    "        self.data = [None] * size\n",
    "\n",
    "    def getValue(self, index):\n",
    "        if index < 0 or index >= self.size:\n",
    "            raise IndexError(\"Index out of range\")\n",
    "        return self.data[index]\n",
    "\n",
    "    def setValue(self, index, value):\n",
    "        if index < 0 or index >= self.size:\n",
    "            raise IndexError(\"Index out of range\")\n",
    "        self.data[index] = value\n",
    "\n",
    "    def length(self):\n",
    "        return self.size\n",
    "\n",
    "    def print(self):\n",
    "        print(self.data)"
   ]
  },
  {
   "cell_type": "code",
   "execution_count": 5,
   "metadata": {},
   "outputs": [
    {
     "data": {
      "text/plain": [
       "<__main__.Array at 0x2bd32510350>"
      ]
     },
     "execution_count": 5,
     "metadata": {},
     "output_type": "execute_result"
    }
   ],
   "source": [
    "array = Array(10)\n",
    "array"
   ]
  },
  {
   "cell_type": "markdown",
   "metadata": {},
   "source": [
    "## Binary Search in Array Class"
   ]
  },
  {
   "cell_type": "code",
   "execution_count": 6,
   "metadata": {},
   "outputs": [],
   "source": [
    "def binarySearchArray(arr, value):\n",
    "\n",
    "    low = 0\n",
    "    high = arr.length() - 1\n",
    "\n",
    "    while low <= high:                  # O(log n) because half of the array is discarded?\n",
    "\n",
    "        mid = (low + high) // 2         # O(1)\n",
    "\n",
    "        if arr.getValue(mid) == value:  # O(1)\n",
    "            return mid\n",
    "\n",
    "        elif arr.getValue(mid) < value: # O(1)\n",
    "            low = mid + 1\n",
    "\n",
    "        else:\n",
    "            high = mid - 1              # O(1)\n",
    "\n",
    "    return None\n",
    "\n",
    "# Complexity:\n",
    "\n",
    "# O(log n) * (O(1) + O(1) + O(1) + O(1)) = O(log n)"
   ]
  },
  {
   "cell_type": "code",
   "execution_count": 7,
   "metadata": {},
   "outputs": [
    {
     "name": "stdout",
     "output_type": "stream",
     "text": [
      "[1, 2, 3, None, None]\n"
     ]
    }
   ],
   "source": [
    "first = Array(5)\n",
    "first.setValue(0, 1)\n",
    "first.setValue(1, 2)\n",
    "first.setValue(2, 3)\n",
    "first.print()"
   ]
  },
  {
   "cell_type": "code",
   "execution_count": 8,
   "metadata": {},
   "outputs": [
    {
     "data": {
      "text/plain": [
       "0"
      ]
     },
     "execution_count": 8,
     "metadata": {},
     "output_type": "execute_result"
    }
   ],
   "source": [
    "binarySearchArray(first, 1)"
   ]
  },
  {
   "cell_type": "markdown",
   "metadata": {},
   "source": [
    "## Q3"
   ]
  },
  {
   "cell_type": "markdown",
   "metadata": {},
   "source": [
    "The complexity of binary search on linked lists is $O(log n)$. Basically, in the worst case, the fast pointer is traversing the entire array, even though it skips every other node. The actual complexity is something like $O(n/2)$ but since we don't care about the $1/2$, we write $O(n)$\n",
    "\n",
    "Then the `while` loop repeats $O(log n)$ times since half the array is dicarded. When we multiply the two complexities, we get $O(nlog n)$"
   ]
  },
  {
   "cell_type": "markdown",
   "metadata": {},
   "source": [
    "## Measuring Binary Linked List Performance"
   ]
  },
  {
   "cell_type": "code",
   "execution_count": 9,
   "metadata": {},
   "outputs": [],
   "source": [
    "import timeit\n",
    "\n",
    "def complexFunction(num):\n",
    "    for _ in range(10_000):\n",
    "        num += 1\n",
    "    return num"
   ]
  },
  {
   "cell_type": "code",
   "execution_count": 33,
   "metadata": {},
   "outputs": [],
   "source": [
    "elapsed_time = timeit.timeit(lambda: complexFunction(100), number= 1000)"
   ]
  },
  {
   "cell_type": "code",
   "execution_count": 34,
   "metadata": {},
   "outputs": [
    {
     "data": {
      "text/plain": [
       "0.355233300011605"
      ]
     },
     "execution_count": 34,
     "metadata": {},
     "output_type": "execute_result"
    }
   ],
   "source": [
    "elapsed_time"
   ]
  },
  {
   "cell_type": "code",
   "execution_count": null,
   "metadata": {},
   "outputs": [],
   "source": []
  },
  {
   "cell_type": "code",
   "execution_count": 29,
   "metadata": {},
   "outputs": [],
   "source": [
    "times = timeit.repeat(lambda: complexFunction(100), repeat=5, number=1000)"
   ]
  },
  {
   "cell_type": "code",
   "execution_count": 30,
   "metadata": {},
   "outputs": [
    {
     "data": {
      "text/plain": [
       "[0.35653209999145474,\n",
       " 0.34733679999771994,\n",
       " 0.37515890000213403,\n",
       " 0.3748995000059949,\n",
       " 0.3930405000137398]"
      ]
     },
     "execution_count": 30,
     "metadata": {},
     "output_type": "execute_result"
    }
   ],
   "source": [
    "times"
   ]
  },
  {
   "cell_type": "code",
   "execution_count": 23,
   "metadata": {},
   "outputs": [
    {
     "name": "stdout",
     "output_type": "stream",
     "text": [
      "0.0005627800012007356\n",
      "0.00038835000013932587\n",
      "0.0003723599991644733\n",
      "0.0005119299996295013\n",
      "0.0005257400000118651\n"
     ]
    }
   ],
   "source": [
    "for time in times:\n",
    "    print(time / 10)"
   ]
  },
  {
   "cell_type": "code",
   "execution_count": null,
   "metadata": {},
   "outputs": [],
   "source": []
  },
  {
   "cell_type": "code",
   "execution_count": null,
   "metadata": {},
   "outputs": [],
   "source": [
    "sizes = [1000, 2000, 4000, 8000]\n"
   ]
  },
  {
   "cell_type": "code",
   "execution_count": null,
   "metadata": {},
   "outputs": [],
   "source": [
    "# Create linked list with n nodes\n",
    "\n"
   ]
  },
  {
   "cell_type": "code",
   "execution_count": null,
   "metadata": {},
   "outputs": [],
   "source": [
    "def measureBinaryLinkedPerformance():\n",
    "\n",
    "    import time\n",
    "    start = time.time()\n",
    "\n",
    "    value = 11\n",
    "    binarySearchLinked(head, value)\n",
    "    end = time.time()\n",
    "    return end - start\n",
    "    "
   ]
  },
  {
   "cell_type": "code",
   "execution_count": null,
   "metadata": {},
   "outputs": [],
   "source": [
    "for size in sizes:\n",
    "    head = newNode(1)\n",
    "    last = head\n",
    "    for i in range(size):\n",
    "        last.next = newNode(i)\n",
    "        last = last.next\n",
    "    print(\"Binary Linked: \", measureBinaryLinkedPerformance())\n",
    "    "
   ]
  }
 ],
 "metadata": {
  "kernelspec": {
   "display_name": "base",
   "language": "python",
   "name": "python3"
  },
  "language_info": {
   "codemirror_mode": {
    "name": "ipython",
    "version": 3
   },
   "file_extension": ".py",
   "mimetype": "text/x-python",
   "name": "python",
   "nbconvert_exporter": "python",
   "pygments_lexer": "ipython3",
   "version": "3.11.5"
  }
 },
 "nbformat": 4,
 "nbformat_minor": 2
}
