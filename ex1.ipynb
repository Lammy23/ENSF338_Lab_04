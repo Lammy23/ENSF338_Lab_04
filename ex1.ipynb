{
 "cells": [
  {
   "cell_type": "markdown",
   "metadata": {},
   "source": [
    "## Implementation of Linked Lists"
   ]
  },
  {
   "cell_type": "code",
   "execution_count": 6,
   "metadata": {},
   "outputs": [],
   "source": [
    "class Node:\n",
    "    \n",
    "    def __init__(self, data):\n",
    "        self.data = data\n",
    "        self.next = None\n",
    "        self.prev = None\n",
    "        \n",
    "def newNode(x):\n",
    "\n",
    "    temp = Node(0)\n",
    "    temp.data = x\n",
    "    temp.next = None\n",
    "    return temp"
   ]
  },
  {
   "cell_type": "markdown",
   "metadata": {},
   "source": [
    "## Binary Search on Linked Lists"
   ]
  },
  {
   "cell_type": "code",
   "execution_count": 4,
   "metadata": {},
   "outputs": [],
   "source": [
    "def middle(start, last):\n",
    "\n",
    "    if (start == None):\n",
    "        return None\n",
    "\n",
    "    slow = start\n",
    "    fast = start . next\n",
    "\n",
    "    while (fast != last):\n",
    "    \n",
    "        fast = fast . next\n",
    "        if (fast != last):\n",
    "        \n",
    "            slow = slow . next\n",
    "            fast = fast . next\n",
    "        \n",
    "    return slow\n",
    "\n",
    "def binarySearchLinked(head,value):\n",
    "\n",
    "    start = head\n",
    "    last = None\n",
    "\n",
    "    while True :\n",
    "    \n",
    "        mid = middle(start, last)\n",
    "\n",
    "        if (mid == None):\n",
    "            return None\n",
    "\n",
    "        if (mid . data == value):\n",
    "            return mid\n",
    "\n",
    "        elif (mid . data < value):\n",
    "            start = mid . next\n",
    "\n",
    "        else:\n",
    "            last = mid\n",
    "\n",
    "        if not (last == None or last != start):\n",
    "            break\n",
    "    return None"
   ]
  },
  {
   "cell_type": "code",
   "execution_count": 7,
   "metadata": {},
   "outputs": [
    {
     "name": "stdout",
     "output_type": "stream",
     "text": [
      "Element Found\n"
     ]
    }
   ],
   "source": [
    "head = newNode(2)\n",
    "head.next = newNode(5)\n",
    "head.next.next = newNode(7)\n",
    "head.next.next.next = newNode(11)\n",
    "head.next.next.next.next = newNode(15)\n",
    "head.next.next.next.next.next = newNode(18)\n",
    "value = 11\n",
    "\n",
    "if (binarySearchLinked(head, value) == None):\n",
    "    print(\"Element not Found\\n\")\n",
    "else:\n",
    "    print(\"Element Found\")"
   ]
  },
  {
   "cell_type": "markdown",
   "metadata": {},
   "source": [
    "## Implementation of Array Class"
   ]
  },
  {
   "cell_type": "code",
   "execution_count": 8,
   "metadata": {},
   "outputs": [],
   "source": [
    "class Array:\n",
    "    def __init__(self, size):\n",
    "        self.size = size\n",
    "        self.data = [None] * size\n",
    "\n",
    "    def get(self, index):\n",
    "        if index < 0 or index >= self.size:\n",
    "            raise IndexError(\"Index out of range\")\n",
    "        return self.data[index]\n",
    "\n",
    "    def set(self, index, value):\n",
    "        if index < 0 or index >= self.size:\n",
    "            raise IndexError(\"Index out of range\")\n",
    "        self.data[index] = value\n",
    "\n",
    "    def length(self):\n",
    "        return self.size\n",
    "\n",
    "    def print(self):\n",
    "        print(self.data)\n",
    "\n",
    "    def get(self, index):\n",
    "        if index < 0 or index >= self.size:\n",
    "            raise IndexError(\"Index out of range\")\n",
    "        return self.data[index]\n"
   ]
  },
  {
   "cell_type": "markdown",
   "metadata": {},
   "source": [
    "## Binary Search in Array Class"
   ]
  },
  {
   "cell_type": "code",
   "execution_count": 9,
   "metadata": {},
   "outputs": [],
   "source": [
    "def binarySearchArray(arr, value):\n",
    "    low = 0\n",
    "    high = arr.length() - 1\n",
    "    while low <= high:\n",
    "        mid = (low + high) // 2\n",
    "        if arr.get(mid) == value:\n",
    "            return mid\n",
    "        elif arr.get(mid) < value:\n",
    "            low = mid + 1\n",
    "        else:\n",
    "            high = mid - 1\n",
    "    return None"
   ]
  },
  {
   "cell_type": "code",
   "execution_count": 10,
   "metadata": {},
   "outputs": [
    {
     "name": "stdout",
     "output_type": "stream",
     "text": [
      "[1, 2, 3, None, None]\n"
     ]
    }
   ],
   "source": [
    "first = Array(5)\n",
    "first.set(0, 1)\n",
    "first.set(1, 2)\n",
    "first.set(2, 3)\n",
    "first.print()"
   ]
  },
  {
   "cell_type": "code",
   "execution_count": 11,
   "metadata": {},
   "outputs": [
    {
     "data": {
      "text/plain": [
       "1"
      ]
     },
     "execution_count": 11,
     "metadata": {},
     "output_type": "execute_result"
    }
   ],
   "source": [
    "binarySearchArray(first, 2)"
   ]
  },
  {
   "cell_type": "markdown",
   "metadata": {},
   "source": [
    "## Q3"
   ]
  },
  {
   "cell_type": "markdown",
   "metadata": {},
   "source": [
    "The complexity of binary search on linked lists is $O(n)$. Basically, in the worst case, the fast pointer is traversing the entire array, even though it skips every other node. The actual complexity is something like $O(n/2)$ but since we don't care about the $1/2$, we write $O(n)$"
   ]
  },
  {
   "cell_type": "markdown",
   "metadata": {},
   "source": [
    "## Measuring Binary Linked List Performance"
   ]
  },
  {
   "cell_type": "code",
   "execution_count": 13,
   "metadata": {},
   "outputs": [
    {
     "data": {
      "text/plain": [
       "[1, 2, 3, 4, 5, 6, 7, 8, 9, 10, 11, 12, 13, 14, 15, 16, 17, 18, 19]"
      ]
     },
     "execution_count": 13,
     "metadata": {},
     "output_type": "execute_result"
    }
   ],
   "source": [
    "sizes = [i for i in range(1, 20)]\n",
    "size"
   ]
  },
  {
   "cell_type": "code",
   "execution_count": null,
   "metadata": {},
   "outputs": [],
   "source": [
    "# Create linked list with n nodes\n",
    "\n"
   ]
  },
  {
   "cell_type": "code",
   "execution_count": null,
   "metadata": {},
   "outputs": [],
   "source": [
    "def measureBinaryLinkedPerformance():\n",
    "    import time\n",
    "    start = time.time()\n",
    "\n",
    "    value = 11\n",
    "    binarySearchLinked(head, value)\n",
    "    end = time.time()\n",
    "    return end - start"
   ]
  },
  {
   "cell_type": "code",
   "execution_count": null,
   "metadata": {},
   "outputs": [],
   "source": [
    "for size in sizes:\n",
    "    head = newNode(1)\n",
    "    last = head\n",
    "    for i in range(size):\n",
    "        last.next = newNode(i)\n",
    "        last = last.next\n",
    "    print(\"Binary Linked: \", measureBinaryLinkedPerformance())"
   ]
  }
 ],
 "metadata": {
  "kernelspec": {
   "display_name": "base",
   "language": "python",
   "name": "python3"
  },
  "language_info": {
   "codemirror_mode": {
    "name": "ipython",
    "version": 3
   },
   "file_extension": ".py",
   "mimetype": "text/x-python",
   "name": "python",
   "nbconvert_exporter": "python",
   "pygments_lexer": "ipython3",
   "version": "3.11.5"
  }
 },
 "nbformat": 4,
 "nbformat_minor": 2
}
