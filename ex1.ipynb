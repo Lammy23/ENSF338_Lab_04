{
 "cells": [
  {
   "cell_type": "code",
   "execution_count": 33,
   "metadata": {},
   "outputs": [],
   "source": [
    "# Imports\n",
    "\n",
    "import timeit\n",
    "import random\n",
    "import numpy as np\n",
    "from scipy.optimize import curve_fit\n",
    "import matplotlib.pyplot as plt"
   ]
  },
  {
   "cell_type": "markdown",
   "metadata": {},
   "source": [
    "## Implementation of Linked Lists"
   ]
  },
  {
   "cell_type": "code",
   "execution_count": 34,
   "metadata": {},
   "outputs": [],
   "source": [
    "class Node:\n",
    "\n",
    "    def __init__(self, val, next= None):\n",
    "        self.val = val\n",
    "        self.next = next\n",
    "\n",
    "class LinkedList:\n",
    "\n",
    "    def __init__(self, head= None):\n",
    "        self.head = head\n",
    "\n",
    "    def addNode(self, val):\n",
    "        tempNode = Node(val)\n",
    "        if self.head is None:\n",
    "            self.head = tempNode\n",
    "            return\n",
    "\n",
    "        start = self.head\n",
    "        while True:\n",
    "            if start.next is None:\n",
    "                start.next = tempNode\n",
    "                break\n",
    "            start = start.next"
   ]
  },
  {
   "cell_type": "markdown",
   "metadata": {},
   "source": [
    "## Binary Search on Linked Lists"
   ]
  },
  {
   "cell_type": "code",
   "execution_count": 35,
   "metadata": {},
   "outputs": [],
   "source": [
    "def binarySearchLinked(searchList, val):\n",
    "    '''\n",
    "    Required:\n",
    "    head pointer that points to head of linked list\n",
    "    val integer to be found\n",
    "\n",
    "    Promises:\n",
    "    Finds and returns the Node that has the val else returns None\n",
    "    '''\n",
    "    start = searchList.head\n",
    "    last = None\n",
    "    \n",
    "    while True:                         # O(log n)\n",
    "        mid = middle(start, last)       # O(n)\n",
    "\n",
    "        if mid is None:                 # O(1)\n",
    "            return None\n",
    "\n",
    "        if mid.val == val:            # O(1)\n",
    "            return mid\n",
    "\n",
    "        elif mid.val < val:             # O(1)\n",
    "            start = mid.next\n",
    "\n",
    "        elif mid.val > val:             # O(1)\n",
    "            last = mid\n",
    "\n",
    "        if start == last:               # O(1)\n",
    "        # and last is not None:\n",
    "            break\n",
    "\n",
    "    return None\n",
    "\n",
    "def middle(start, last):\n",
    "    '''\n",
    "    Required:\n",
    "    start pointer that points to the first element\n",
    "    last pointer that points to the last element\n",
    "\n",
    "    Promises:\n",
    "    Finds and returns the middle Node of the linked list\n",
    "\n",
    "    How it works:\n",
    "    Two pointers, slow and fast, will traverse the whole array. Fast increments by two steps\n",
    "    each time. When fast reaches the last element slow would have reached the middle element.\n",
    "    '''\n",
    "\n",
    "    if start is None:\n",
    "        return None\n",
    "\n",
    "    slow = start\n",
    "    fast = start\n",
    "\n",
    "    while fast.next != last and fast.next.next != last:\n",
    "        fast = fast.next.next\n",
    "        slow = slow.next\n",
    "\n",
    "    return slow"
   ]
  },
  {
   "cell_type": "code",
   "execution_count": 36,
   "metadata": {},
   "outputs": [
    {
     "name": "stdout",
     "output_type": "stream",
     "text": [
      "Element not Found\n",
      "\n"
     ]
    }
   ],
   "source": [
    "testList = LinkedList()\n",
    "testList.addNode(2)\n",
    "testList.addNode(5)\n",
    "testList.addNode(7)\n",
    "testList.addNode(11)\n",
    "testList.addNode(15)\n",
    "testList.addNode(18)\n",
    "\n",
    "value = 155\n",
    "\n",
    "node = binarySearchLinked(testList, value)\n",
    "\n",
    "if node is None:\n",
    "    print(\"Element not Found\\n\")\n",
    "else:\n",
    "    print(\"Element Found\")\n",
    "    print(node.val)"
   ]
  },
  {
   "cell_type": "markdown",
   "metadata": {},
   "source": [
    "## Implementation of Array Class"
   ]
  },
  {
   "cell_type": "code",
   "execution_count": 37,
   "metadata": {},
   "outputs": [],
   "source": [
    "class Array:\n",
    "    def __init__(self, size):\n",
    "        self.size = size\n",
    "        self.data = [None] * size\n",
    "\n",
    "    def getValue(self, index):\n",
    "        if index < 0 or index >= self.size:\n",
    "            raise IndexError(\"Index out of range\")\n",
    "        return self.data[index]\n",
    "\n",
    "    def setValue(self, index, value):\n",
    "        if index < 0 or index >= self.size:\n",
    "            raise IndexError(\"Index out of range\")\n",
    "        self.data[index] = value\n",
    "\n",
    "    def length(self):\n",
    "        return self.size\n",
    "\n",
    "    def print(self):\n",
    "        print(self.data)"
   ]
  },
  {
   "cell_type": "code",
   "execution_count": 38,
   "metadata": {},
   "outputs": [
    {
     "name": "stdout",
     "output_type": "stream",
     "text": [
      "[None, None, None, None, None, None, None, None, None, None]\n"
     ]
    }
   ],
   "source": [
    "array = Array(10)\n",
    "array.print()"
   ]
  },
  {
   "cell_type": "markdown",
   "metadata": {},
   "source": [
    "## Binary Search in Array Class"
   ]
  },
  {
   "cell_type": "code",
   "execution_count": 39,
   "metadata": {},
   "outputs": [],
   "source": [
    "def binarySearchArray(arr, value):\n",
    "\n",
    "    low = 0\n",
    "    high = arr.length() - 1\n",
    "\n",
    "    while low <= high:                  # O(log n)\n",
    "\n",
    "        mid = (low + high) // 2         # O(1)\n",
    "\n",
    "        if arr.getValue(mid) == value:  # O(1)\n",
    "            return mid\n",
    "\n",
    "        elif arr.getValue(mid) < value: # O(1)\n",
    "            low = mid + 1\n",
    "\n",
    "        else:\n",
    "            high = mid - 1              # O(1)\n",
    "\n",
    "    return None"
   ]
  },
  {
   "cell_type": "code",
   "execution_count": 40,
   "metadata": {},
   "outputs": [
    {
     "name": "stdout",
     "output_type": "stream",
     "text": [
      "[1, 2, 3, None, None]\n"
     ]
    }
   ],
   "source": [
    "first = Array(5)\n",
    "first.setValue(0, 1)\n",
    "first.setValue(1, 2)\n",
    "first.setValue(2, 3)\n",
    "first.print()"
   ]
  },
  {
   "cell_type": "code",
   "execution_count": 41,
   "metadata": {},
   "outputs": [
    {
     "data": {
      "text/plain": [
       "0"
      ]
     },
     "execution_count": 41,
     "metadata": {},
     "output_type": "execute_result"
    }
   ],
   "source": [
    "binarySearchArray(first, 1)"
   ]
  },
  {
   "cell_type": "markdown",
   "metadata": {},
   "source": [
    "## Q3"
   ]
  },
  {
   "cell_type": "markdown",
   "metadata": {},
   "source": [
    "The complexity of binary search on linked lists is $O(log n)$. Basically, in the worst case, the fast pointer is traversing the entire array, even though it skips every other node. The actual complexity is something like $O(n/2)$ but since we don't care about the $1/2$, we write $O(n)$\n",
    "\n",
    "Then the `while` loop repeats $O(log n)$ times since half the array is dicarded. When we multiply the two complexities, we get $O(nlog n)$"
   ]
  },
  {
   "cell_type": "markdown",
   "metadata": {},
   "source": [
    "## Measuring Binary Linked List Performance"
   ]
  },
  {
   "cell_type": "code",
   "execution_count": 42,
   "metadata": {},
   "outputs": [],
   "source": [
    "# Allocating array sizes\n",
    "\n",
    "# sizes = [1000, 2000, 4000, 8000]\n",
    "sizes = [i*2 for i in range(1, 100)]"
   ]
  },
  {
   "cell_type": "code",
   "execution_count": 43,
   "metadata": {},
   "outputs": [],
   "source": [
    "bsl_times = []\n",
    "\n",
    "def measureList(size):\n",
    "\n",
    "    listy = LinkedList()\n",
    "\n",
    "    for i in range(size):\n",
    "        listy.addNode(i)\n",
    "    \n",
    "    avg_time = timeit.timeit(stmt= lambda: binarySearchLinked(listy, random.randint(1, size + 1)), number= 100) / 100\n",
    "    return avg_time\n",
    "\n",
    "for size in sizes:\n",
    "    bsl_times.append(measureList(size))\n",
    "    "
   ]
  },
  {
   "cell_type": "code",
   "execution_count": 44,
   "metadata": {},
   "outputs": [
    {
     "data": {
      "text/plain": [
       "[5.4629999794997275e-06,\n",
       " 9.359999967273325e-07,\n",
       " 8.349999552592635e-07,\n",
       " 9.73999995039776e-07,\n",
       " 1.0550000297371298e-06,\n",
       " 1.1029999586753547e-06,\n",
       " 1.3289999333210288e-06,\n",
       " 1.706000039121136e-06,\n",
       " 1.4859999646432698e-06]"
      ]
     },
     "execution_count": 44,
     "metadata": {},
     "output_type": "execute_result"
    }
   ],
   "source": [
    "bsl_times"
   ]
  },
  {
   "cell_type": "code",
   "execution_count": 45,
   "metadata": {},
   "outputs": [],
   "source": [
    "bsa_times = []\n",
    "\n",
    "def measureArray(size):\n",
    "\n",
    "    array = Array(size)\n",
    "    for i in range(size):\n",
    "        array.setValue(i, i + 1)\n",
    "    \n",
    "    avg_time = timeit.timeit(stmt= lambda: binarySearchArray(array, random.randint(1, size + 1)), number= 100) / 100\n",
    "    return avg_time\n",
    "\n",
    "for size in sizes:\n",
    "    bsa_times.append(measureArray(size))\n",
    "    "
   ]
  },
  {
   "cell_type": "code",
   "execution_count": 46,
   "metadata": {},
   "outputs": [
    {
     "data": {
      "text/plain": [
       "[1.2700000661425293e-06,\n",
       " 1.3699999544769525e-06,\n",
       " 1.0269999620504676e-06,\n",
       " 1.0999999358318746e-06,\n",
       " 1.4940000255592167e-06,\n",
       " 1.4519999967887997e-06,\n",
       " 1.6029999824240805e-06,\n",
       " 1.7649999062996357e-06,\n",
       " 1.8889999773819e-06]"
      ]
     },
     "execution_count": 46,
     "metadata": {},
     "output_type": "execute_result"
    }
   ],
   "source": [
    "bsa_times"
   ]
  },
  {
   "cell_type": "markdown",
   "metadata": {},
   "source": [
    "## Curve Fitting"
   ]
  },
  {
   "cell_type": "code",
   "execution_count": 47,
   "metadata": {},
   "outputs": [],
   "source": [
    "def lognModel(x, a, b):\n",
    "    return a * (np.log(x)) + b\n",
    "\n",
    "def nlognModel(x, a, b):\n",
    "    return a * (x * np.log(x)) + b\n",
    "\n",
    "p_lin, _ = curve_fit(nlognModel, sizes, bsl_times)\n",
    "p_arr, _ = curve_fit(lognModel, sizes, bsa_times)"
   ]
  },
  {
   "cell_type": "markdown",
   "metadata": {},
   "source": [
    "## Plotting"
   ]
  },
  {
   "cell_type": "code",
   "execution_count": 48,
   "metadata": {},
   "outputs": [
    {
     "data": {
      "image/png": "[encoded data removed]",
      "text/plain": [
       "<Figure size 800x800 with 1 Axes>"
      ]
     },
     "metadata": {},
     "output_type": "display_data"
    }
   ],
   "source": [
    "fig, ax = plt.subplots(nrows=1, ncols=1, figsize=(8, 8))\n",
    "\n",
    "# linked list\n",
    "ax.scatter(sizes, bsl_times, label='list', color='red')\n",
    "ax.plot(sizes, nlognModel(np.array(sizes), *p_lin), label='list-line', color='red')\n",
    "\n",
    "# array\n",
    "ax.scatter(sizes, bsa_times, label='array', color='blue')\n",
    "ax.plot(sizes, lognModel(np.array(sizes), *p_arr), label='array-line', color='blue')\n",
    "\n",
    "ax.legend()\n",
    "\n",
    "plt.tight_layout\n",
    "plt.show()"
   ]
  },
  {
   "cell_type": "code",
   "execution_count": null,
   "metadata": {},
   "outputs": [],
   "source": []
  }
 ],
 "metadata": {
  "kernelspec": {
   "display_name": "base",
   "language": "python",
   "name": "python3"
  },
  "language_info": {
   "codemirror_mode": {
    "name": "ipython",
    "version": 3
   },
   "file_extension": ".py",
   "mimetype": "text/x-python",
   "name": "python",
   "nbconvert_exporter": "python",
   "pygments_lexer": "ipython3",
   "version": "3.11.5"
  }
 },
 "nbformat": 4,
 "nbformat_minor": 2
}
