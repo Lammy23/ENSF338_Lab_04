{
 "cells": [
  {
   "cell_type": "code",
   "execution_count": 1,
   "metadata": {},
   "outputs": [],
   "source": [
    "# Imports\n",
    "\n",
    "import timeit\n",
    "import random\n",
    "import numpy as np\n",
    "from scipy.optimize import curve_fit\n",
    "import matplotlib.pyplot as plt"
   ]
  },
  {
   "cell_type": "markdown",
   "metadata": {},
   "source": [
    "## Implementation of Linked Lists"
   ]
  },
  {
   "cell_type": "code",
   "execution_count": 2,
   "metadata": {},
   "outputs": [],
   "source": [
    "class Node:\n",
    "\n",
    "    def __init__(self, val, next= None):\n",
    "        self.val = val\n",
    "        self.next = next\n",
    "\n",
    "class LinkedList:\n",
    "\n",
    "    def __init__(self, head= None):\n",
    "        self.head = head\n",
    "\n",
    "    def addNode(self, val):\n",
    "        tempNode = Node(val)\n",
    "        if self.head is None:\n",
    "            self.head = tempNode\n",
    "            return\n",
    "\n",
    "        start = self.head\n",
    "        while True:\n",
    "            if start.next is None:\n",
    "                start.next = tempNode\n",
    "                break\n",
    "            start = start.next"
   ]
  },
  {
   "cell_type": "markdown",
   "metadata": {},
   "source": [
    "## Binary Search on Linked Lists"
   ]
  },
  {
   "cell_type": "code",
   "execution_count": 3,
   "metadata": {},
   "outputs": [],
   "source": [
    "def binarySearchLinked(searchList, val):\n",
    "    '''\n",
    "    Required:\n",
    "    head pointer that points to head of linked list\n",
    "    val integer to be found\n",
    "\n",
    "    Promises:\n",
    "    Finds and returns the Node that has the val else returns None\n",
    "    '''\n",
    "    start = searchList.head\n",
    "    last = None\n",
    "    \n",
    "    while True:                         # O(log n)\n",
    "        mid = middle(start, last)       # O(n)\n",
    "\n",
    "        if mid is None:                 # O(1)\n",
    "            return None\n",
    "\n",
    "        if mid.val == val:            # O(1)\n",
    "            return mid\n",
    "\n",
    "        elif mid.val < val:             # O(1)\n",
    "            start = mid.next\n",
    "\n",
    "        elif mid.val > val:             # O(1)\n",
    "            last = mid\n",
    "\n",
    "        if start == last:               # O(1)\n",
    "        # and last is not None:\n",
    "            break\n",
    "\n",
    "    return None\n",
    "\n",
    "def middle(start, last):\n",
    "    '''\n",
    "    Required:\n",
    "    start pointer that points to the first element\n",
    "    last pointer that points to the last element\n",
    "\n",
    "    Promises:\n",
    "    Finds and returns the middle Node of the linked list\n",
    "\n",
    "    How it works:\n",
    "    Two pointers, slow and fast, will traverse the whole array. Fast increments by two steps\n",
    "    each time. When fast reaches the last element slow would have reached the middle element.\n",
    "    '''\n",
    "\n",
    "    if start is None:\n",
    "        return None\n",
    "\n",
    "    slow = start\n",
    "    fast = start\n",
    "\n",
    "    while fast.next != last and fast.next.next != last:\n",
    "        fast = fast.next.next\n",
    "        slow = slow.next\n",
    "\n",
    "    return slow"
   ]
  },
  {
   "cell_type": "code",
   "execution_count": 4,
   "metadata": {},
   "outputs": [
    {
     "name": "stdout",
     "output_type": "stream",
     "text": [
      "Element not Found\n",
      "\n"
     ]
    }
   ],
   "source": [
    "testList = LinkedList()\n",
    "testList.addNode(2)\n",
    "testList.addNode(5)\n",
    "testList.addNode(7)\n",
    "testList.addNode(11)\n",
    "testList.addNode(15)\n",
    "testList.addNode(18)\n",
    "\n",
    "value = 155\n",
    "\n",
    "node = binarySearchLinked(testList, value)\n",
    "\n",
    "if node is None:\n",
    "    print(\"Element not Found\\n\")\n",
    "else:\n",
    "    print(\"Element Found\")\n",
    "    print(node.val)"
   ]
  },
  {
   "cell_type": "markdown",
   "metadata": {},
   "source": [
    "## Implementation of Array Class"
   ]
  },
  {
   "cell_type": "code",
   "execution_count": 5,
   "metadata": {},
   "outputs": [],
   "source": [
    "class Array:\n",
    "    def __init__(self, size):\n",
    "        self.size = size\n",
    "        self.data = [None] * size\n",
    "\n",
    "    def getValue(self, index):\n",
    "        if index < 0 or index >= self.size:\n",
    "            raise IndexError(\"Index out of range\")\n",
    "        return self.data[index]\n",
    "\n",
    "    def setValue(self, index, value):\n",
    "        if index < 0 or index >= self.size:\n",
    "            raise IndexError(\"Index out of range\")\n",
    "        self.data[index] = value\n",
    "\n",
    "    def length(self):\n",
    "        return self.size\n",
    "\n",
    "    def print(self):\n",
    "        print(self.data)"
   ]
  },
  {
   "cell_type": "code",
   "execution_count": 6,
   "metadata": {},
   "outputs": [
    {
     "name": "stdout",
     "output_type": "stream",
     "text": [
      "[None, None, None, None, None, None, None, None, None, None]\n"
     ]
    }
   ],
   "source": [
    "array = Array(10)\n",
    "array.print()"
   ]
  },
  {
   "cell_type": "markdown",
   "metadata": {},
   "source": [
    "## Binary Search in Array Class"
   ]
  },
  {
   "cell_type": "code",
   "execution_count": 7,
   "metadata": {},
   "outputs": [],
   "source": [
    "def binarySearchArray(arr, value):\n",
    "\n",
    "    low = 0\n",
    "    high = arr.length() - 1\n",
    "\n",
    "    while low <= high:                  # O(log n)\n",
    "\n",
    "        mid = (low + high) // 2         # O(1)\n",
    "\n",
    "        if arr.getValue(mid) == value:  # O(1)\n",
    "            return mid\n",
    "\n",
    "        elif arr.getValue(mid) < value: # O(1)\n",
    "            low = mid + 1\n",
    "\n",
    "        else:\n",
    "            high = mid - 1              # O(1)\n",
    "\n",
    "    return None"
   ]
  },
  {
   "cell_type": "code",
   "execution_count": 8,
   "metadata": {},
   "outputs": [
    {
     "name": "stdout",
     "output_type": "stream",
     "text": [
      "[1, 2, 3, None, None]\n"
     ]
    }
   ],
   "source": [
    "first = Array(5)\n",
    "first.setValue(0, 1)\n",
    "first.setValue(1, 2)\n",
    "first.setValue(2, 3)\n",
    "first.print()"
   ]
  },
  {
   "cell_type": "code",
   "execution_count": 9,
   "metadata": {},
   "outputs": [
    {
     "data": {
      "text/plain": [
       "0"
      ]
     },
     "execution_count": 9,
     "metadata": {},
     "output_type": "execute_result"
    }
   ],
   "source": [
    "binarySearchArray(first, 1)"
   ]
  },
  {
   "cell_type": "markdown",
   "metadata": {},
   "source": [
    "## Q3"
   ]
  },
  {
   "cell_type": "markdown",
   "metadata": {},
   "source": [
    "The complexity of binary search on linked lists is $O(log n)$. Basically, in the worst case, the fast pointer is traversing the entire array, even though it skips every other node. The actual complexity is something like $O(n/2)$ but since we don't care about the $1/2$, we write $O(n)$\n",
    "\n",
    "Then the `while` loop repeats $O(log n)$ times since half the array is dicarded. When we multiply the two complexities, we get $O(nlog n)$"
   ]
  },
  {
   "cell_type": "markdown",
   "metadata": {},
   "source": [
    "## Measuring Binary Linked List Performance"
   ]
  },
  {
   "cell_type": "code",
   "execution_count": 10,
   "metadata": {},
   "outputs": [],
   "source": [
    "# Allocating array sizes\n",
    "\n",
    "# sizes = [1000, 2000, 4000, 8000]\n",
    "sizes = [i ** 2 for i in range(1, 100)]"
   ]
  },
  {
   "cell_type": "code",
   "execution_count": 11,
   "metadata": {},
   "outputs": [],
   "source": [
    "bsl_times = []\n",
    "\n",
    "def measureList(size):\n",
    "\n",
    "    listy = LinkedList()\n",
    "\n",
    "    for i in range(size):\n",
    "        listy.addNode(i)\n",
    "    \n",
    "    avg_time = timeit.timeit(stmt= lambda: binarySearchLinked(listy, random.randint(1, size + 1)), number= 100) / 100\n",
    "    return avg_time\n",
    "\n",
    "for size in sizes:\n",
    "    bsl_times.append(measureList(size))\n",
    "    "
   ]
  },
  {
   "cell_type": "code",
   "execution_count": 12,
   "metadata": {},
   "outputs": [
    {
     "data": {
      "text/plain": [
       "[8.269999671028927e-07,\n",
       " 1.120000015362166e-06,\n",
       " 1.5110000094864518e-06,\n",
       " 2.2590000298805533e-06,\n",
       " 2.7709999994840475e-06,\n",
       " 3.6720000207424166e-06,\n",
       " 5.9370000235503536e-06,\n",
       " 5.802999949082732e-06,\n",
       " 7.261999999172986e-06,\n",
       " 1.0235000008833594e-05,\n",
       " 1.0534000030020251e-05,\n",
       " 1.2262000018381513e-05,\n",
       " 1.4351999998325483e-05,\n",
       " 1.9213000050513075e-05,\n",
       " 2.333800002816133e-05,\n",
       " 2.0923000047332607e-05,\n",
       " 2.559200001996942e-05,\n",
       " 3.485000001091976e-05,\n",
       " 3.053499996894971e-05,\n",
       " 3.2821999993757345e-05,\n",
       " 4.276200001186226e-05,\n",
       " 4.321300002629869e-05,\n",
       " 4.6791999993729403e-05,\n",
       " 5.1260999971418644e-05,\n",
       " 6.954799995583016e-05,\n",
       " 6.68279999808874e-05,\n",
       " 6.504199998744298e-05,\n",
       " 6.569299999682698e-05,\n",
       " 6.99470000108704e-05,\n",
       " 7.646999998542014e-05,\n",
       " 9.22129999526078e-05,\n",
       " 0.00010619999993650708,\n",
       " 9.308699998655356e-05,\n",
       " 0.00018232399997941684,\n",
       " 0.0001631210000050487,\n",
       " 0.00010801299999002367,\n",
       " 0.00011186600000655745,\n",
       " 0.00010642399996868334,\n",
       " 0.00012189100001705811,\n",
       " 0.00020182099993689917,\n",
       " 0.0002218469999934314,\n",
       " 0.0001603389999945648,\n",
       " 0.00014022900002601092,\n",
       " 0.0001462310000351863,\n",
       " 0.00015425600002345164,\n",
       " 0.00017000399995595217,\n",
       " 0.00017037300000083633,\n",
       " 0.00016298400005325674,\n",
       " 0.00017784399999072774,\n",
       " 0.0002989830000296934,\n",
       " 0.0001849979999678908,\n",
       " 0.00018986800001584924,\n",
       " 0.00019551299999875482,\n",
       " 0.00020540299999993294,\n",
       " 0.000220437000025413,\n",
       " 0.00023645000001124573,\n",
       " 0.00025546199998643715,\n",
       " 0.00025821799994446337,\n",
       " 0.0002426650000415975,\n",
       " 0.00025960500002838674,\n",
       " 0.0002818330000445712,\n",
       " 0.00030609500005084555,\n",
       " 0.0002872380000189878,\n",
       " 0.00031071699995663946,\n",
       " 0.00030503399997542144,\n",
       " 0.0003107209999870975,\n",
       " 0.0003548719999525929,\n",
       " 0.00034816400002455337,\n",
       " 0.0003512620000401512,\n",
       " 0.0003855680000560824,\n",
       " 0.00039989500000956466,\n",
       " 0.000367471999998088,\n",
       " 0.00038725399994291363,\n",
       " 0.0004320749999897089,\n",
       " 0.0004354129999410361,\n",
       " 0.0004475580000143964,\n",
       " 0.0004778729999816278,\n",
       " 0.000444675000035204,\n",
       " 0.0004731510000419803,\n",
       " 0.0004821490000176709,\n",
       " 0.0005350100000214297,\n",
       " 0.0005494100000214531,\n",
       " 0.0004981579999730457,\n",
       " 0.000508075000034296,\n",
       " 0.0005383710000023711,\n",
       " 0.0005334759999823291,\n",
       " 0.0005855090000113705,\n",
       " 0.0006144169999606674,\n",
       " 0.0005802270000276621,\n",
       " 0.0006018369999947026,\n",
       " 0.0005926990000443766,\n",
       " 0.0006571330000588204,\n",
       " 0.000640752000035718,\n",
       " 0.0006450849999964703,\n",
       " 0.0007377119999728165,\n",
       " 0.0006612639999366366,\n",
       " 0.0006813130000227829,\n",
       " 0.0007056599999486935,\n",
       " 0.0007544090000010329]"
      ]
     },
     "execution_count": 12,
     "metadata": {},
     "output_type": "execute_result"
    }
   ],
   "source": [
    "bsl_times"
   ]
  },
  {
   "cell_type": "code",
   "execution_count": 13,
   "metadata": {},
   "outputs": [],
   "source": [
    "bsa_times = []\n",
    "\n",
    "def measureArray(size):\n",
    "\n",
    "    array = Array(size)\n",
    "    for i in range(size):\n",
    "        array.setValue(i, i + 1)\n",
    "    \n",
    "    avg_time = timeit.timeit(stmt= lambda: binarySearchArray(array, random.randint(1, size + 1)), number= 100) / 100\n",
    "    return avg_time\n",
    "\n",
    "for size in sizes:\n",
    "    bsa_times.append(measureArray(size))\n",
    "    "
   ]
  },
  {
   "cell_type": "code",
   "execution_count": 14,
   "metadata": {},
   "outputs": [
    {
     "data": {
      "text/plain": [
       "[1.7970000044442712e-06,\n",
       " 1.9379999866941944e-06,\n",
       " 2.36400002904702e-06,\n",
       " 2.2760000138077885e-06,\n",
       " 2.164999968954362e-06,\n",
       " 2.2850000095786527e-06,\n",
       " 1.3329999637790024e-06,\n",
       " 1.5500000154133886e-06,\n",
       " 1.7700000171316788e-06,\n",
       " 3.155999947921373e-06,\n",
       " 2.76400001894217e-06,\n",
       " 1.8809999892255292e-06,\n",
       " 2.089999979943968e-06,\n",
       " 2.0570000197039917e-06,\n",
       " 1.9669999892357736e-06,\n",
       " 3.5379999462747947e-06,\n",
       " 2.8259999817237257e-06,\n",
       " 2.899000028264709e-06,\n",
       " 2.9550000181188806e-06,\n",
       " 2.499999973224476e-06,\n",
       " 3.308000013930723e-06,\n",
       " 3.5660000139614567e-06,\n",
       " 2.530999990995042e-06,\n",
       " 2.553000012994744e-06,\n",
       " 2.5430000096093864e-06,\n",
       " 3.8069999573053794e-06,\n",
       " 4.563999973470345e-06,\n",
       " 2.480000039213337e-06,\n",
       " 2.2840000019641594e-06,\n",
       " 2.829000004567206e-06,\n",
       " 2.896000005421229e-06,\n",
       " 2.8680000104941427e-06,\n",
       " 2.702000056160614e-06,\n",
       " 2.970000059576705e-06,\n",
       " 2.649999951245263e-06,\n",
       " 2.803000024869107e-06,\n",
       " 3.653999956441112e-06,\n",
       " 3.4610000147949902e-06,\n",
       " 3.001999939442612e-06,\n",
       " 2.714000002015382e-06,\n",
       " 2.843999973265454e-06,\n",
       " 2.594999969005585e-06,\n",
       " 5.0210000335937365e-06,\n",
       " 2.803000024869107e-06,\n",
       " 3.934000051231123e-06,\n",
       " 2.9829999402863906e-06,\n",
       " 3.3809999877121298e-06,\n",
       " 3.3209999673999847e-06,\n",
       " 2.7319999935571102e-06,\n",
       " 2.634000047692098e-06,\n",
       " 3.2800000190036373e-06,\n",
       " 3.2669999927747994e-06,\n",
       " 6.247999990591779e-06,\n",
       " 3.1199999648379164e-06,\n",
       " 2.7880000561708584e-06,\n",
       " 3.606000027502887e-06,\n",
       " 3.0730000435141845e-06,\n",
       " 3.1420000595971943e-06,\n",
       " 3.1139999919105323e-06,\n",
       " 2.9039999935775993e-06,\n",
       " 3.078000008827075e-06,\n",
       " 2.9860000358894465e-06,\n",
       " 5.955999949947e-06,\n",
       " 4.364999986137264e-06,\n",
       " 3.6769999860553073e-06,\n",
       " 3.480000013951212e-06,\n",
       " 3.199999991920777e-06,\n",
       " 3.045999983442016e-06,\n",
       " 3.2330000249203296e-06,\n",
       " 2.913999996962957e-06,\n",
       " 4.153999980189838e-06,\n",
       " 3.968000019085594e-06,\n",
       " 4.627000016625971e-06,\n",
       " 4.769000006490387e-06,\n",
       " 3.288000007160008e-06,\n",
       " 3.025999976671301e-06,\n",
       " 3.901999953086488e-06,\n",
       " 2.9739999445155263e-06,\n",
       " 3.0329999572131785e-06,\n",
       " 3.0080000578891486e-06,\n",
       " 2.950999987660907e-06,\n",
       " 3.826000029221177e-06,\n",
       " 3.2139999530045314e-06,\n",
       " 3.3680000342428686e-06,\n",
       " 3.2350000401493163e-06,\n",
       " 3.2500000088475643e-06,\n",
       " 3.3179999445565045e-06,\n",
       " 3.3170000097015873e-06,\n",
       " 3.333999993628822e-06,\n",
       " 3.5870000283466654e-06,\n",
       " 7.80900001700502e-06,\n",
       " 3.6729999555973337e-06,\n",
       " 3.349999969941564e-06,\n",
       " 3.484999979264103e-06,\n",
       " 3.3590000384720043e-06,\n",
       " 4.062000007252209e-06,\n",
       " 3.3180000173160807e-06,\n",
       " 3.2869999995455148e-06,\n",
       " 3.1089999538380654e-06]"
      ]
     },
     "execution_count": 14,
     "metadata": {},
     "output_type": "execute_result"
    }
   ],
   "source": [
    "bsa_times"
   ]
  },
  {
   "cell_type": "markdown",
   "metadata": {},
   "source": [
    "## Curve Fitting"
   ]
  },
  {
   "cell_type": "code",
   "execution_count": 22,
   "metadata": {},
   "outputs": [],
   "source": [
    "def lognModel(x, a, b):\n",
    "    return a * (np.log(x)) + b\n",
    "\n",
    "def linearModel(x, a, b):\n",
    "    return a * x + b\n",
    "\n",
    "p_lin, _ = curve_fit(linearModel, sizes, bsl_times)\n",
    "p_arr, _ = curve_fit(lognModel, sizes, bsa_times)"
   ]
  },
  {
   "cell_type": "markdown",
   "metadata": {},
   "source": [
    "## Plotting"
   ]
  },
  {
   "cell_type": "code",
   "execution_count": 23,
   "metadata": {},
   "outputs": [
    {
     "data": {
      "image/png": "[encoded data removed]",
      "text/plain": [
       "<Figure size 800x800 with 1 Axes>"
      ]
     },
     "metadata": {},
     "output_type": "display_data"
    }
   ],
   "source": [
    "fig, ax = plt.subplots(nrows=1, ncols=1, figsize=(8, 8))\n",
    "\n",
    "# linked list\n",
    "ax.scatter(sizes, bsl_times, label='list', color='red')\n",
    "ax.plot(sizes, linearModel(np.array(sizes), *p_lin), label='list-line', color='red')\n",
    "\n",
    "# array\n",
    "ax.scatter(sizes, bsa_times, label='array', color='blue')\n",
    "ax.plot(sizes, lognModel(np.array(sizes), *p_arr), label='array-line', color='blue')\n",
    "\n",
    "ax.legend()\n",
    "\n",
    "plt.tight_layout\n",
    "plt.show()"
   ]
  },
  {
   "cell_type": "code",
   "execution_count": null,
   "metadata": {},
   "outputs": [],
   "source": []
  }
 ],
 "metadata": {
  "kernelspec": {
   "display_name": "base",
   "language": "python",
   "name": "python3"
  },
  "language_info": {
   "codemirror_mode": {
    "name": "ipython",
    "version": 3
   },
   "file_extension": ".py",
   "mimetype": "text/x-python",
   "name": "python",
   "nbconvert_exporter": "python",
   "pygments_lexer": "ipython3",
   "version": "3.11.5"
  }
 },
 "nbformat": 4,
 "nbformat_minor": 2
}
