{
 "cells": [
  {
   "cell_type": "code",
   "execution_count": 2,
   "metadata": {},
   "outputs": [],
   "source": [
    "def reverse(self):\n",
    "    newhead = None\n",
    "    prevNode = None\n",
    "    for i in range(self.get_size()-1, -1, -1):\n",
    "        currNode = self.get_element_at_pos(i)\n",
    "        currNewNode = Node(currNode.data)\n",
    "        if newhead is None:\n",
    "            newhead = currNewNode\n",
    "        else:\n",
    "            prevNode.next = currNewNode\n",
    "        prevNode = currNewNode\n",
    "    self.head = newhead\n"
   ]
  },
  {
   "cell_type": "markdown",
   "metadata": {},
   "source": [
    "## Complexity Analysis"
   ]
  },
  {
   "cell_type": "markdown",
   "metadata": {},
   "source": [
    "Let's step through the code:\n",
    "\n",
    "1. `newhead = None` is $O(1)$ \n",
    "2. `prevNode = None` is $O(1)$\n",
    "\n",
    "3. `for i in range(self.get_size() - 1, -1, -1):` is $O(n)$. Generally, we can think of it as these two lines merged into one:\n",
    "\n",
    "```\n",
    "size = self.get_size()\n",
    "for i in range(size - 1, -1, -1):\n",
    "```\n",
    "\n",
    "Both lines are $O(n)$. So far, we get\\\n",
    "$Total = O(1) + O(1) + O(n) + O(n) = O(n)$\n",
    "\n",
    "4. Within the for loop, `currNode = self.get_element_at_pos(i)` is $O(n)$ because getting an element in a linked list requires traversing the list which is $O(n)$. \n",
    "\n",
    "5. `currNewNode = Node(currNode.data)` is $O(1)$\n",
    "\n",
    "6. The `if` block has functions that are all $O(1)$\n",
    "\n",
    "7. `prevNode = currNewNode` is $O(1)$\n",
    "\n",
    "Thus,\\\n",
    "$Total = O(n) * (O(n) + 3 * O(1)) = O(n^2)$\n",
    "\n",
    "8. Lastly, `self.head = newhead` is $O(1)$\n",
    "\n",
    "Thus, the complexity is $O(n^2) + O(1) = O(n^2)$"
   ]
  },
  {
   "cell_type": "code",
   "execution_count": 3,
   "metadata": {},
   "outputs": [],
   "source": [
    "def reverse(self):\n",
    "    newhead = None\n",
    "    prevNode = None\n",
    "    for i in range(self.get_size()-1, -1, -1):\n",
    "        currNode = self.get_element_at_pos(i)\n",
    "        currNewNode = Node(currNode.data)\n",
    "        if newhead is None:\n",
    "            newhead = currNewNode\n",
    "        else:\n",
    "            prevNode.next = currNewNode\n",
    "        prevNode = currNewNode\n",
    "    self.head = newhead"
   ]
  },
  {
   "cell_type": "code",
   "execution_count": null,
   "metadata": {},
   "outputs": [],
   "source": []
  }
 ],
 "metadata": {
  "kernelspec": {
   "display_name": "base",
   "language": "python",
   "name": "python3"
  },
  "language_info": {
   "codemirror_mode": {
    "name": "ipython",
    "version": 3
   },
   "file_extension": ".py",
   "mimetype": "text/x-python",
   "name": "python",
   "nbconvert_exporter": "python",
   "pygments_lexer": "ipython3",
   "version": "3.11.5"
  }
 },
 "nbformat": 4,
 "nbformat_minor": 2
}
