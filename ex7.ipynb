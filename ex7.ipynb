{
 "cells": [
  {
   "cell_type": "code",
   "execution_count": null,
   "metadata": {},
   "outputs": [],
   "source": [
    "def reverse(self):\n",
    "    newhead = None\n",
    "    prevNode = None\n",
    "    for i in range(self.get_size()-1, -1, -1):\n",
    "        currNode = self.get_element_at_pos(i)\n",
    "        currNewNode = Node(currNode.data)\n",
    "        if newhead is None:\n",
    "            newhead = currNewNode\n",
    "        else:\n",
    "            prevNode.next = currNewNode\n",
    "        prevNode = currNewNode\n",
    "    self.head = newhead\n"
   ]
  },
  {
   "cell_type": "markdown",
   "metadata": {},
   "source": [
    "## Complexity Analysis"
   ]
  },
  {
   "cell_type": "markdown",
   "metadata": {},
   "source": [
    "Let's step through the code:\n",
    "\n",
    "1. `newhead = None` is $O(1)$ \n",
    "2. `prevNode = None` is $O(1)$\n",
    "\n",
    "3. `for i in range(self.get_size() - 1, -1, -1):` is $O(n)$. Generally, we can think of it as these two lines merged into one:\n",
    "\n",
    "```\n",
    "size = self.get_size()\n",
    "for i in range(size - 1, -1, -1):\n",
    "```\n",
    "\n",
    "Both lines are $O(n)$. So far, we get\\\n",
    "$Total = O(1) + O(1) + O(n) + O(n) = O(n)$\n",
    "\n",
    "4. Within the for loop, `currNode = self.get_element_at_pos(i)` is $O(n)$ because getting an element in a linked list requires traversing the list which is $O(n)$. \n",
    "\n",
    "5. `currNewNode = Node(currNode.data)` is $O(1)$\n",
    "\n",
    "6. The `if` block has functions that are all $O(1)$\n",
    "\n",
    "7. `prevNode = currNewNode` is $O(1)$\n",
    "\n",
    "Thus,\\\n",
    "$Total = O(n) * (O(n) + 3 * O(1)) = O(n^2)$\n",
    "\n",
    "8. Lastly, `self.head = newhead` is $O(1)$\n",
    "\n",
    "Thus, the complexity is $O(n^2) + O(1) = O(n^2)$"
   ]
  },
  {
   "cell_type": "markdown",
   "metadata": {},
   "source": [
    "To improve this array we can modify the code as follows"
   ]
  },
  {
   "cell_type": "code",
   "execution_count": null,
   "metadata": {},
   "outputs": [],
   "source": [
    "def reverseModified(self):\n",
    "    currNode = self.head            # Set the current node to the head\n",
    "    prevNode = None\n",
    "    nextNode = None\n",
    "    if not currNode:                # Check if head points to `None`, then there's nothing to do\n",
    "        return\n",
    "    while currNode is not None:\n",
    "        nextNode = currNode.next    # remember the next node\n",
    "        currNode.next = prevNode    # change 'next' pointer of current node to previous node\n",
    "        prevNode = currNode         # shift previous node forward\n",
    "        currNode = nextNode         # shift current node forward\n",
    "    \n",
    "    self.head = prevNode            # When all is said and done. Assign the new head"
   ]
  },
  {
   "cell_type": "markdown",
   "metadata": {},
   "source": [
    "This implementation reduces the complexity from $O(n^2)$ to $O(n)$. We increase the number of pointers from two to three. This enables us to keep track of both the previous node and the next node from the current node, resulting in the need to traverse the linked list only once."
   ]
  },
  {
   "cell_type": "markdown",
   "metadata": {},
   "source": [
    "## Testing `reverse`"
   ]
  },
  {
   "cell_type": "code",
   "execution_count": null,
   "metadata": {},
   "outputs": [],
   "source": [
    "# Imports\n",
    "\n",
    "import numpy as np\n",
    "import matplotlib.pyplot as plt\n",
    "import timeit\n",
    "from scipy.optimize import curve_fit"
   ]
  },
  {
   "cell_type": "code",
   "execution_count": null,
   "metadata": {},
   "outputs": [],
   "source": [
    "class Node:\n",
    "\n",
    "    def __init__(self, val, next= None):\n",
    "        self.val = val\n",
    "        self.next = next\n",
    "\n",
    "class LinkedList:\n",
    "\n",
    "    def __init__(self, head= None):\n",
    "        self.head = head\n",
    "\n",
    "    def addNode(self, val):\n",
    "        tempNode = Node(val)\n",
    "        if self.head is None:\n",
    "            self.head = tempNode\n",
    "            return\n",
    "\n",
    "        start = self.head\n",
    "        while True:\n",
    "            if start.next is None:\n",
    "                start.next = tempNode\n",
    "                break\n",
    "            start = start.next\n",
    "\n",
    "    def insert_head(self, node):\n",
    "        node.next = self.head\n",
    "        self.head = node\n",
    "    \n",
    "    def insert_tail(self, node):\n",
    "        curr = self.head\n",
    "        while curr.next is not None:\n",
    "            curr = curr.next\n",
    "        curr.next = node\n",
    "        node.next = None\n",
    "\n",
    "    def get_size(self):\n",
    "        curr = self.head\n",
    "        counter = 0\n",
    "        while curr is not None:\n",
    "            counter += 1\n",
    "            curr = curr.next\n",
    "        return counter\n",
    "\n",
    "    def get_element_at_pos(self, pos):\n",
    "        curr = self.head\n",
    "        counter = 0\n",
    "        while counter < pos:\n",
    "            curr = curr.next\n",
    "            counter += 1\n",
    "        return curr\n",
    "        \n",
    "    def printList(self):\n",
    "        curr = self.head\n",
    "        while curr is not None:\n",
    "            print(f\"{curr.val} -> \", end='')\n",
    "            curr = curr.next\n",
    "        print(\"None\")\n",
    "\n",
    "    # Changed 'data' to 'val'\n",
    "    def reverseOld(self):\n",
    "        newhead = None\n",
    "        prevNode = None\n",
    "        for i in range(self.get_size()-1, -1, -1):\n",
    "            currNode = self.get_element_at_pos(i)\n",
    "            currNewNode = Node(currNode.val)\n",
    "            if newhead is None:\n",
    "                newhead = currNewNode\n",
    "            else:\n",
    "                prevNode.next = currNewNode\n",
    "            prevNode = currNewNode\n",
    "        self.head = newhead\n",
    "\n",
    "    def reverseModified(self):\n",
    "        currNode = self.head            # Set the current node to the head\n",
    "        prevNode = None\n",
    "        nextNode = None\n",
    "        if not currNode:                # Check if head points to `None`, then there's nothing to do\n",
    "            return\n",
    "        while currNode is not None:\n",
    "            nextNode = currNode.next    # remember the next node\n",
    "            currNode.next = prevNode    # change 'next' pointer of current node to previous node\n",
    "            prevNode = currNode         # shift previous node forward\n",
    "            currNode = nextNode         # shift current node forward\n",
    "        \n",
    "        self.head = prevNode            # When all is said and done. Assign the new head"
   ]
  },
  {
   "cell_type": "code",
   "execution_count": null,
   "metadata": {},
   "outputs": [],
   "source": [
    "testList = LinkedList()\n",
    "testList.addNode(1)\n",
    "testList.addNode(2)\n",
    "testList.addNode(3)\n",
    "testList.addNode(4)\n",
    "testList.addNode(5)\n",
    "testList.addNode(6)\n",
    "\n",
    "value = 7\n",
    "\n",
    "testList.printList()\n",
    "testList.insert_head(Node(0))\n",
    "testList.printList()\n",
    "testList.insert_tail(Node(7))\n",
    "testList.printList()\n",
    "print(testList.get_size())\n",
    "testList.printList()\n",
    "print(testList.get_element_at_pos(2).val)\n",
    "\n",
    "testList.reverseModified()\n",
    "testList.printList()\n",
    "testList.reverseOld()\n",
    "testList.printList()\n",
    "\n",
    "\n"
   ]
  },
  {
   "cell_type": "code",
   "execution_count": null,
   "metadata": {},
   "outputs": [],
   "source": [
    "# Assign sizes\n",
    "\n",
    "sizes = [1000, 2000, 3000, 4000]"
   ]
  },
  {
   "cell_type": "code",
   "execution_count": null,
   "metadata": {},
   "outputs": [],
   "source": [
    "def measureOld(size):\n",
    "    listy = LinkedList()\n",
    "    for i in range(size):\n",
    "        listy.addNode(i)\n",
    "    avg_time = timeit.timeit(stmt= lambda: listy.reverseOld(), number= 100) / 100\n",
    "    return avg_time\n",
    "\n",
    "def measureModified(size):\n",
    "    listy = LinkedList()\n",
    "    for i in range(size):\n",
    "        listy.addNode(i)\n",
    "    avg_time = timeit.timeit(stmt= lambda: listy.reverseModified(), number= 100) / 100\n",
    "    return avg_time\n"
   ]
  },
  {
   "cell_type": "code",
   "execution_count": null,
   "metadata": {},
   "outputs": [],
   "source": [
    "old = []\n",
    "for size in sizes:\n",
    "    old.append(measureOld(size))\n",
    "\n",
    "modified = []\n",
    "for size in sizes:\n",
    "    modified.append(measureModified(size))"
   ]
  },
  {
   "cell_type": "code",
   "execution_count": null,
   "metadata": {},
   "outputs": [],
   "source": []
  },
  {
   "cell_type": "markdown",
   "metadata": {},
   "source": [
    "## Curve fitting"
   ]
  },
  {
   "cell_type": "code",
   "execution_count": null,
   "metadata": {},
   "outputs": [],
   "source": [
    "def nSquaredModel(x, a, b):\n",
    "    return a * (x ** 2) + b\n",
    "\n",
    "def linearModel(x, a, b):\n",
    "    return a * x + b\n",
    "\n",
    "p_old, _ = curve_fit(nSquaredModel, sizes, old)\n",
    "p_modified, _ = curve_fit(linearModel, sizes, modified)"
   ]
  },
  {
   "cell_type": "markdown",
   "metadata": {},
   "source": [
    "## Plotting"
   ]
  },
  {
   "cell_type": "code",
   "execution_count": null,
   "metadata": {},
   "outputs": [],
   "source": [
    "fig, ax = plt.subplots(nrows= 1, ncols= 1, figsize= (5, 5))\n",
    "\n",
    "ax.scatter(sizes, old, label= 'old', color= 'red')\n",
    "ax.plot(sizes, nSquaredModel(np.array(sizes), *p_old), label= 'old curve', color= 'red')\n",
    "\n",
    "ax.scatter(sizes, modified, label= 'modified', color= 'blue')\n",
    "ax.plot(sizes, linearModel(np.array(sizes), *p_modified), label= 'modified curve', color= 'blue')\n",
    "\n",
    "ax.set_xlabel(\"Array Sizes\")\n",
    "ax.set_ylabel(\"Average Time\")\n",
    "\n",
    "ax.legend()\n",
    "\n",
    "plt.tight_layout()\n",
    "plt.show()"
   ]
  }
 ],
 "metadata": {
  "kernelspec": {
   "display_name": "base",
   "language": "python",
   "name": "python3"
  },
  "language_info": {
   "codemirror_mode": {
    "name": "ipython",
    "version": 3
   },
   "file_extension": ".py",
   "mimetype": "text/x-python",
   "name": "python",
   "nbconvert_exporter": "python",
   "pygments_lexer": "ipython3",
   "version": "3.11.5"
  }
 },
 "nbformat": 4,
 "nbformat_minor": 2
}
