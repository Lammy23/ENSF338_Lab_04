{
 "cells": [
  {
   "cell_type": "code",
   "execution_count": 1,
   "metadata": {},
   "outputs": [],
   "source": [
    "# Imports\n",
    "\n",
    "import sys\n",
    "import numpy as np\n",
    "import random"
   ]
  },
  {
   "cell_type": "markdown",
   "metadata": {},
   "source": [
    "## Python's Strategy for growing arrays\n",
    "\n",
    "In the `list.c` file provided (in line 44), we observed that python uses a function called `list_resize` that takes the list and the new size.UNSURE!!!! According to line 30, the new size is the number of elements that the array would like to store in total.\n",
    "\n",
    "First, in line 54 - 48, the function checks if `newsize` is less than the current size of the list but larger than half of it. If so, no reallocation needs to take place and the function returns 0.\n",
    "\n",
    "Then, the function overallocates by slightly increasing the `newsize` variable with the following line of code (line 70). This is also the **growth factor**\n",
    "\n",
    "```\n",
    "new_allocated = ((size_t)newsize + (newsize >> 3) + 6) & ~(size_t)3;\n",
    "```\n",
    "\n",
    "This basically evaluates to,\n",
    "\n",
    "$n = (n + \\frac{n}{8}) + 6$\n",
    "\n",
    "The `~(size_t)3` ensures that the final answer is rounded down to the nearest multiple of 4. In a nutshell, if `newsize` is greater than the current array size, the array expands and is overallocated, but if `newsize` is less than half the array size, the array shrinks and is still overallocated.\n",
    "\n",
    "However, the overallocation is overwritten if the unnecessary (line 74 - 75). The rest of the function details checks for memory errors and then assigns the new sizes."
   ]
  },
  {
   "cell_type": "markdown",
   "metadata": {},
   "source": [
    "## Test Inference"
   ]
  },
  {
   "cell_type": "code",
   "execution_count": 28,
   "metadata": {},
   "outputs": [
    {
     "name": "stdout",
     "output_type": "stream",
     "text": [
      "Elements: 1, Old capacity: 0, New capacity: 4, Growth: 4\n",
      "Elements: 5, Old capacity: 4, New capacity: 8, Growth: 4\n",
      "Elements: 9, Old capacity: 8, New capacity: 16, Growth: 8\n",
      "Elements: 17, Old capacity: 16, New capacity: 24, Growth: 8\n",
      "Elements: 25, Old capacity: 24, New capacity: 32, Growth: 8\n",
      "Elements: 33, Old capacity: 32, New capacity: 40, Growth: 8\n",
      "Elements: 41, Old capacity: 40, New capacity: 52, Growth: 12\n",
      "Elements: 53, Old capacity: 52, New capacity: 64, Growth: 12\n"
     ]
    }
   ],
   "source": [
    "import sys\n",
    "\n",
    "# Instantiate default list\n",
    "listy = list()\n",
    "\n",
    "# Get size of default list\n",
    "default_size = sys.getsizeof(listy)\n",
    "\n",
    "def getCapacity(listy, default_size):\n",
    "    '''\n",
    "    Requires:\n",
    "    * python list\n",
    "    * default list size\n",
    "\n",
    "    Promises:\n",
    "    * Subtracts default size from actual size\n",
    "    * Convert to capacity by dividing by 8 bytes (size of int) and\n",
    "    return that value\n",
    "    '''\n",
    "    return int((sys.getsizeof(listy) - default_size) / 8)\n",
    "\n",
    "for i in range(64):\n",
    "    listy.append(random.randint(0, 100))\n",
    "    new_size = int(sys.getsizeof(listy) / 8) - 7\n",
    "    growth = new_size - last_size\n",
    "    if growth > 0:\n",
    "        print(f\"Elements: {i+1}, Old capacity: {last_size}, New capacity: {new_size}, Growth: {growth}\")\n",
    "    last_size = new_size"
   ]
  },
  {
   "cell_type": "code",
   "execution_count": null,
   "metadata": {},
   "outputs": [],
   "source": [
    "listy"
   ]
  },
  {
   "cell_type": "code",
   "execution_count": null,
   "metadata": {},
   "outputs": [],
   "source": []
  }
 ],
 "metadata": {
  "kernelspec": {
   "display_name": "base",
   "language": "python",
   "name": "python3"
  },
  "language_info": {
   "codemirror_mode": {
    "name": "ipython",
    "version": 3
   },
   "file_extension": ".py",
   "mimetype": "text/x-python",
   "name": "python",
   "nbconvert_exporter": "python",
   "pygments_lexer": "ipython3",
   "version": "3.11.5"
  }
 },
 "nbformat": 4,
 "nbformat_minor": 2
}
